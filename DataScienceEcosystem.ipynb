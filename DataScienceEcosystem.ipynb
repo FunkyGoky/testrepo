{
 "cells": [
  {
   "cell_type": "markdown",
   "id": "81ee04ca-3e13-47f3-aa43-aa3656247078",
   "metadata": {},
   "source": [
    "# Data Science tools and Ecosystem"
   ]
  },
  {
   "attachments": {},
   "cell_type": "markdown",
   "id": "1f52b34d-0a02-451b-b5a6-5f7d0673fbd0",
   "metadata": {},
   "source": [
    "In this notebook, Data Science Tools and Ecosystem are summarized."
   ]
  },
  {
   "cell_type": "markdown",
   "id": "68a7b5de-09e3-410d-9946-4c634c06245d",
   "metadata": {},
   "source": [
    "Some of the popular languages that Data Scients use are:\n",
    "\n",
    "1. Python\n",
    "2. R\n",
    "3. Julia\n"
   ]
  },
  {
   "cell_type": "markdown",
   "id": "68638a38-d398-4fb0-88f4-bfc4691c49cc",
   "metadata": {},
   "source": [
    "Some of the commonly used libraries used by Data Scientists include:\n",
    "\n",
    "- matplot\n",
    "- pandas\n",
    "- scikit-learn"
   ]
  },
  {
   "cell_type": "markdown",
   "id": "dbec07bc-7f7a-4469-805d-246b154f98aa",
   "metadata": {},
   "source": [
    "Some of the commonly used libraries used by Data Scientists include:\n",
    "\n",
    "1. matplot\n",
    "2. pandas\n",
    "3. scikit-learn"
   ]
  },
  {
   "cell_type": "markdown",
   "id": "c625ed99-d9fa-488f-84fc-7453581da467",
   "metadata": {},
   "source": [
    "| Data Science Tools |\n",
    "|--------------------|\n",
    "|R Studio|\n",
    "|Jupyter Notebook|\n",
    "|IBM Watson|"
   ]
  },
  {
   "cell_type": "markdown",
   "id": "69668ab5-5ba9-47fd-8cd7-6ba33168092c",
   "metadata": {},
   "source": [
    "### Below are a few examples of evaluating arithmetic expressions in python."
   ]
  },
  {
   "cell_type": "code",
   "execution_count": 18,
   "id": "2acf29f0-61ac-4b78-828a-47a3a75fc8fe",
   "metadata": {},
   "outputs": [
    {
     "name": "stdout",
     "output_type": "stream",
     "text": [
      "3.33 hour(s)\n"
     ]
    }
   ],
   "source": [
    "# This is a simple arithmetic expression to multiply then add integers\n",
    "(3*4)+5\n",
    "# This will convert 200 minutes to hours by diving by 60\n",
    "print (round(200/60, 2) , \"hour(s)\")"
   ]
  },
  {
   "attachments": {},
   "cell_type": "markdown",
   "id": "569c880a-0673-4826-868c-ac15c82316b1",
   "metadata": {},
   "source": [
    "**Objectives:** \n",
    "\n",
    "- learning how to use markdowns\n",
    "- learning how to add code and execute it\n",
    "- learning how to add objects to the notebook"
   ]
  },
  {
   "cell_type": "markdown",
   "id": "4944fa2d-0442-4bd6-999a-9114193cf8dd",
   "metadata": {},
   "source": [
    "### Author: Goki Kazama"
   ]
  }
 ],
 "metadata": {
  "kernelspec": {
   "display_name": "Python 3 (ipykernel)",
   "language": "python",
   "name": "python3"
  },
  "language_info": {
   "codemirror_mode": {
    "name": "ipython",
    "version": 3
   },
   "file_extension": ".py",
   "mimetype": "text/x-python",
   "name": "python",
   "nbconvert_exporter": "python",
   "pygments_lexer": "ipython3",
   "version": "3.12.8"
  }
 },
 "nbformat": 4,
 "nbformat_minor": 5
}
